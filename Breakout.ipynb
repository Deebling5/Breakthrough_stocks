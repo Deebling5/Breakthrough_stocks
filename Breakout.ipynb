{
 "cells": [
  {
   "cell_type": "code",
   "execution_count": null,
   "metadata": {},
   "outputs": [],
   "source": [
    "# import os, pandas\n",
    "\n",
    "def is_consolidating(df, percentage=2):\n",
    "    recent_candlesticks = df[-15:]\n",
    "    #print(percentage)\n",
    "    max_close = recent_candlesticks['Close'].max()\n",
    "    min_close = recent_candlesticks['Close'].min()\n",
    "\n",
    "    threshold = 1 - (percentage / 100)\n",
    "    if min_close > (max_close * threshold):\n",
    "        return True        \n",
    "\n",
    "    return False\n",
    "\n",
    "def is_breaking_out(df, percentage=6):\n",
    "    last_close = df[-1:]['Close'].values[0]\n",
    "\n",
    "    if is_consolidating(df[:-1], percentage=percentage):\n",
    "        recent_closes = df[-16:-1]\n",
    "\n",
    "        if last_close > recent_closes['Close'].max():\n",
    "            return True\n",
    "\n",
    "    return False\n",
    "\n",
    "for filename in os.listdir('datasets/daily1'):\n",
    "    df = pandas.read_csv('datasets/daily1/{}'.format(filename))\n",
    "    \n",
    "    if is_consolidating(df, percentage=5.5):\n",
    "        print(\"{} is consolidating\".format(filename))\n",
    "\n",
    "    if is_breaking_out(df):\n",
    "        print(\"{} is breaking out\".format(filename))\n",
    "        \n"
   ]
  },
  {
   "cell_type": "code",
   "execution_count": null,
   "metadata": {},
   "outputs": [],
   "source": [
    "import os, pandas\n",
    "import streamlit as st\n",
    "Consol = []\n",
    "Break = []\n",
    "def is_consolidating(df, percentage=2):\n",
    "    recent_candlesticks = df[-10:]\n",
    "    #print(percentage)\n",
    "    max_close = recent_candlesticks['Close'].max()\n",
    "    min_close = recent_candlesticks['Close'].min()\n",
    "\n",
    "    threshold = 1 - (percentage / 100)\n",
    "    if min_close > (max_close * threshold):\n",
    "        return True        \n",
    "    \n",
    "    return False\n",
    "\n",
    "def is_breaking_out(df, percentage=4):\n",
    "    last_close = df[-1:]['Close'].values[0]\n",
    "\n",
    "    if is_consolidating(df[:-1], percentage=percentage):\n",
    "        recent_closes = df[-11:-1]\n",
    "\n",
    "        if last_close > recent_closes['Close'].max():\n",
    "            return True\n",
    "\n",
    "    return False\n",
    "\n",
    "for filename in os.listdir('datasets/daily1'):\n",
    "    df = pandas.read_csv('datasets/daily1/{}'.format(filename))\n",
    "    \n",
    "    if is_consolidating(df, percentage=3.5):\n",
    "        st.markdown(filename + \"is consolidating\")\n",
    "    if is_breaking_out(df):\n",
    "        st.markdown(filename + \"is Breaking Out\")\n"
   ]
  },
  {
   "cell_type": "code",
   "execution_count": 2,
   "metadata": {},
   "outputs": [],
   "source": [
    "import os, os.path\n",
    "for root, _, files in os.walk('datasets/daily1'):\n",
    "    for f in files:\n",
    "        fullpath = os.path.join(root, f)\n",
    "        try:\n",
    "            if os.path.getsize(fullpath) < 1 * 1024:   #set file size in kb\n",
    "                os.remove(fullpath)\n",
    "        except WindowsError:\n",
    "            none"
   ]
  },
  {
   "cell_type": "code",
   "execution_count": null,
   "metadata": {},
   "outputs": [],
   "source": []
  }
 ],
 "metadata": {
  "kernelspec": {
   "display_name": "Python 3",
   "language": "python",
   "name": "python3"
  },
  "language_info": {
   "codemirror_mode": {
    "name": "ipython",
    "version": 3
   },
   "file_extension": ".py",
   "mimetype": "text/x-python",
   "name": "python",
   "nbconvert_exporter": "python",
   "pygments_lexer": "ipython3",
   "version": "3.7.6"
  }
 },
 "nbformat": 4,
 "nbformat_minor": 4
}
